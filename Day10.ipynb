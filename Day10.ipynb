{
 "cells": [
  {
   "cell_type": "code",
   "execution_count": 1,
   "id": "b16ef30f",
   "metadata": {
    "ExecuteTime": {
     "end_time": "2021-12-10T13:12:09.666356Z",
     "start_time": "2021-12-10T13:12:09.358223Z"
    }
   },
   "outputs": [],
   "source": [
    "from aocd import submit\n",
    "from aocd.models import Puzzle"
   ]
  },
  {
   "cell_type": "code",
   "execution_count": 2,
   "id": "553aa2ee",
   "metadata": {
    "ExecuteTime": {
     "end_time": "2021-12-10T13:12:09.681759Z",
     "start_time": "2021-12-10T13:12:09.667733Z"
    }
   },
   "outputs": [],
   "source": [
    "puzzle = Puzzle(2021, 10)"
   ]
  },
  {
   "cell_type": "code",
   "execution_count": 3,
   "id": "f5430c98",
   "metadata": {
    "ExecuteTime": {
     "end_time": "2021-12-10T13:12:09.728149Z",
     "start_time": "2021-12-10T13:12:09.684200Z"
    }
   },
   "outputs": [],
   "source": [
    "_input = puzzle.input_data\n",
    "# test input\n",
    "# _input = \"\"\"[({(<(())[]>[[{[]{<()<>>\n",
    "# [(()[<>])]({[<{<<[]>>(\n",
    "# {([(<{}[<>[]}>{[]{[(<()>\n",
    "# (((({<>}<{<{<>}{[]{[]{}\n",
    "# [[<[([]))<([[{}[[()]]]\n",
    "# [{[{({}]{}}([{[{{{}}([]\n",
    "# {<[[]]>}<{[{[{[]{()[[[]\n",
    "# [<(<(<(<{}))><([]([]()\n",
    "# <{([([[(<>()){}]>(<<{{\n",
    "# <{([{{}}[<[[[<>{}]]]>[]]\"\"\""
   ]
  },
  {
   "cell_type": "code",
   "execution_count": 4,
   "id": "204f2f52",
   "metadata": {
    "ExecuteTime": {
     "end_time": "2021-12-10T13:12:09.743496Z",
     "start_time": "2021-12-10T13:12:09.729491Z"
    }
   },
   "outputs": [],
   "source": [
    "_input = _input.split('\\n')\n",
    "\n",
    "_input_a = ''.join(_input)\n",
    "_input_b = _input"
   ]
  },
  {
   "cell_type": "code",
   "execution_count": 5,
   "id": "a9d3bcf0",
   "metadata": {
    "ExecuteTime": {
     "end_time": "2021-12-10T13:12:09.759020Z",
     "start_time": "2021-12-10T13:12:09.744993Z"
    }
   },
   "outputs": [],
   "source": [
    "points_a = {\n",
    "    ')': 3,\n",
    "    ']': 57,\n",
    "    '}': 1197,\n",
    "    '>': 25137\n",
    "}\n",
    "\n",
    "points_b = {\n",
    "    '(': 1,\n",
    "    '[': 2,\n",
    "    '{': 3,\n",
    "    '<': 4\n",
    "}\n",
    "\n",
    "open_brackets = ['(', '[', '{', '<']\n",
    "close_brackets = [')', ']', '}', '>']\n",
    "pair_brackets = list(zip(open_brackets, close_brackets))"
   ]
  },
  {
   "cell_type": "code",
   "execution_count": 6,
   "id": "f87ef8bc",
   "metadata": {
    "ExecuteTime": {
     "end_time": "2021-12-10T13:12:09.774400Z",
     "start_time": "2021-12-10T13:12:09.760362Z"
    }
   },
   "outputs": [],
   "source": [
    "def clear_str(str_input):\n",
    "    size = len(str_input)\n",
    "    while True:\n",
    "        remove_idxs = []\n",
    "        for fst, snd in zip(range(size), range(1, size)):\n",
    "            for _ in pair_brackets:\n",
    "                o, c = _\n",
    "                if str_input[fst] == o and str_input[snd] == c:\n",
    "                    remove_idxs.extend([fst, snd])\n",
    "        str_input = ''.join(_ for idx, _ in enumerate(\n",
    "            str_input) if idx not in remove_idxs)\n",
    "        if size == len(str_input):\n",
    "            break\n",
    "\n",
    "        size = len(str_input)\n",
    "    return str_input"
   ]
  },
  {
   "cell_type": "code",
   "execution_count": 7,
   "id": "86c60b30",
   "metadata": {
    "ExecuteTime": {
     "end_time": "2021-12-10T13:12:10.378364Z",
     "start_time": "2021-12-10T13:12:09.776364Z"
    }
   },
   "outputs": [
    {
     "data": {
      "text/plain": [
       "323691"
      ]
     },
     "execution_count": 7,
     "metadata": {},
     "output_type": "execute_result"
    }
   ],
   "source": [
    "from collections import Counter\n",
    "_input_a = clear_str(_input_a)\n",
    "brackets = []\n",
    "for _, bracket in enumerate(_input_a):\n",
    "    if bracket in close_brackets and _input_a[_-1] in open_brackets:\n",
    "        brackets.append(bracket)\n",
    "\n",
    "\n",
    "z = Counter(brackets)\n",
    "answer_a = 0\n",
    "for c, v in z.items():\n",
    "    answer_a += points_a[c]*v\n",
    "\n",
    "answer_a"
   ]
  },
  {
   "cell_type": "code",
   "execution_count": 8,
   "id": "e4e6fbe6",
   "metadata": {
    "ExecuteTime": {
     "end_time": "2021-12-10T13:12:10.393864Z",
     "start_time": "2021-12-10T13:12:10.381012Z"
    }
   },
   "outputs": [
    {
     "name": "stdout",
     "output_type": "stream",
     "text": [
      "Part a already solved with same answer: 323691\n"
     ]
    }
   ],
   "source": [
    "submit(answer=answer_a, part='a', day=10, year=2021)"
   ]
  },
  {
   "cell_type": "code",
   "execution_count": 9,
   "id": "81dbe575",
   "metadata": {
    "ExecuteTime": {
     "end_time": "2021-12-10T13:12:10.471238Z",
     "start_time": "2021-12-10T13:12:10.395863Z"
    }
   },
   "outputs": [],
   "source": [
    "incomplete_lines = []\n",
    "for line in _input_b:\n",
    "    line = clear_str(line)\n",
    "    corupted = False\n",
    "    for bracket in close_brackets:\n",
    "        if bracket in line:\n",
    "            corupted = True\n",
    "            break\n",
    "    if not corupted:\n",
    "        incomplete_lines.append(line)"
   ]
  },
  {
   "cell_type": "code",
   "execution_count": 10,
   "id": "c39ac0cb",
   "metadata": {
    "ExecuteTime": {
     "end_time": "2021-12-10T13:12:10.486420Z",
     "start_time": "2021-12-10T13:12:10.472738Z"
    }
   },
   "outputs": [],
   "source": [
    "def calculate_score(str_input):\n",
    "    score = 0\n",
    "    for bracket in str_input:\n",
    "        score *= 5\n",
    "        score += points_b[bracket]\n",
    "    return score"
   ]
  },
  {
   "cell_type": "code",
   "execution_count": 11,
   "id": "c49bd00f",
   "metadata": {
    "ExecuteTime": {
     "end_time": "2021-12-10T13:12:10.501923Z",
     "start_time": "2021-12-10T13:12:10.487456Z"
    }
   },
   "outputs": [
    {
     "data": {
      "text/plain": [
       "2858785164"
      ]
     },
     "execution_count": 11,
     "metadata": {},
     "output_type": "execute_result"
    }
   ],
   "source": [
    "winner_idx = len(incomplete_lines)//2\n",
    "# print(incomplete_lines[0][::-1],incomplete_lines[0],sep='\\n')\n",
    "scores = [calculate_score(_[::-1]) for _ in incomplete_lines]\n",
    "answer_b = sorted(scores)[winner_idx]\n",
    "answer_b"
   ]
  },
  {
   "cell_type": "code",
   "execution_count": 12,
   "id": "0d24d851",
   "metadata": {
    "ExecuteTime": {
     "end_time": "2021-12-10T13:12:10.517422Z",
     "start_time": "2021-12-10T13:12:10.502959Z"
    }
   },
   "outputs": [
    {
     "name": "stdout",
     "output_type": "stream",
     "text": [
      "Part b already solved with same answer: 2858785164\n"
     ]
    }
   ],
   "source": [
    "submit(answer=answer_b, part='b', day=10, year=2021)"
   ]
  }
 ],
 "metadata": {
  "kernelspec": {
   "display_name": "Python 3 (ipykernel)",
   "language": "python",
   "name": "python3"
  },
  "language_info": {
   "codemirror_mode": {
    "name": "ipython",
    "version": 3
   },
   "file_extension": ".py",
   "mimetype": "text/x-python",
   "name": "python",
   "nbconvert_exporter": "python",
   "pygments_lexer": "ipython3",
   "version": "3.9.7"
  }
 },
 "nbformat": 4,
 "nbformat_minor": 5
}
