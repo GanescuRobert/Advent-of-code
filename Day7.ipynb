{
 "cells": [
  {
   "cell_type": "code",
   "execution_count": 1,
   "id": "d618ef36",
   "metadata": {
    "ExecuteTime": {
     "end_time": "2021-12-07T09:30:03.660579Z",
     "start_time": "2021-12-07T09:30:03.554415Z"
    }
   },
   "outputs": [],
   "source": [
    "import numpy as np"
   ]
  },
  {
   "cell_type": "code",
   "execution_count": 2,
   "id": "f8ea444a",
   "metadata": {
    "ExecuteTime": {
     "end_time": "2021-12-07T09:30:03.798521Z",
     "start_time": "2021-12-07T09:30:03.661587Z"
    }
   },
   "outputs": [],
   "source": [
    "def read_input(file_name):\n",
    "    with open(file_name) as file:\n",
    "        _input = file.read()\n",
    "    return _input"
   ]
  },
  {
   "cell_type": "code",
   "execution_count": 3,
   "id": "ae260af7",
   "metadata": {
    "ExecuteTime": {
     "end_time": "2021-12-07T09:30:03.829174Z",
     "start_time": "2021-12-07T09:30:03.800343Z"
    }
   },
   "outputs": [],
   "source": [
    "def preprocess_input(_input):\n",
    "    return [\n",
    "        int(_)\n",
    "        for _ in _input.split(\",\")\n",
    "    ]"
   ]
  },
  {
   "cell_type": "code",
   "execution_count": 4,
   "id": "8cb98f80",
   "metadata": {
    "ExecuteTime": {
     "end_time": "2021-12-07T09:30:03.859818Z",
     "start_time": "2021-12-07T09:30:03.830525Z"
    }
   },
   "outputs": [],
   "source": [
    "def one(_input):\n",
    "    print(\" First star: \")\n",
    "    ans = min([sum([abs(_-start_point) for _ in _input])\n",
    "              for start_point in range(_input.max())])\n",
    "\n",
    "    return ans"
   ]
  },
  {
   "cell_type": "code",
   "execution_count": 5,
   "id": "fb03eb53",
   "metadata": {
    "ExecuteTime": {
     "end_time": "2021-12-07T09:30:03.905806Z",
     "start_time": "2021-12-07T09:30:03.860815Z"
    }
   },
   "outputs": [],
   "source": [
    "def sum1n(n):\n",
    "    return n*(n+1)//2\n",
    "\n",
    "def two(_input):\n",
    "    print(\"Second star: \")\n",
    "    ans = min([sum([sum1n(abs(_-start_point)) for _ in _input])\n",
    "              for start_point in range(_input.max())])\n",
    "\n",
    "    return ans"
   ]
  },
  {
   "cell_type": "code",
   "execution_count": 6,
   "id": "7231b507",
   "metadata": {
    "ExecuteTime": {
     "end_time": "2021-12-07T09:30:03.951778Z",
     "start_time": "2021-12-07T09:30:03.907049Z"
    }
   },
   "outputs": [],
   "source": [
    "test_answer_1 = 37\n",
    "test_answer_2 = 168\n",
    "test_input = np.array(preprocess_input(read_input(\"Day7_test.input\")))\n",
    "\n",
    "_input = np.array(preprocess_input(read_input(\"Day7.input\")))"
   ]
  },
  {
   "cell_type": "code",
   "execution_count": 7,
   "id": "6fcf8897",
   "metadata": {
    "ExecuteTime": {
     "end_time": "2021-12-07T09:30:04.551890Z",
     "start_time": "2021-12-07T09:30:03.952828Z"
    }
   },
   "outputs": [
    {
     "name": "stdout",
     "output_type": "stream",
     "text": [
      " First star: \n",
      "Test pass.\n",
      " First star: \n",
      "339321\n"
     ]
    }
   ],
   "source": [
    "if one(test_input) == test_answer_1:\n",
    "    print(\"Test pass.\")\n",
    "    print(one(_input))"
   ]
  },
  {
   "cell_type": "code",
   "execution_count": 8,
   "id": "0c354030",
   "metadata": {
    "ExecuteTime": {
     "end_time": "2021-12-07T09:30:05.843381Z",
     "start_time": "2021-12-07T09:30:04.553343Z"
    }
   },
   "outputs": [
    {
     "name": "stdout",
     "output_type": "stream",
     "text": [
      "Second star: \n",
      "Test pass.\n",
      "Second star: \n",
      "95476244\n"
     ]
    }
   ],
   "source": [
    "if two(test_input) == test_answer_2:\n",
    "    print(\"Test pass.\")\n",
    "    print(two(_input))"
   ]
  }
 ],
 "metadata": {
  "kernelspec": {
   "display_name": "Python 3 (ipykernel)",
   "language": "python",
   "name": "python3"
  },
  "language_info": {
   "codemirror_mode": {
    "name": "ipython",
    "version": 3
   },
   "file_extension": ".py",
   "mimetype": "text/x-python",
   "name": "python",
   "nbconvert_exporter": "python",
   "pygments_lexer": "ipython3",
   "version": "3.9.7"
  }
 },
 "nbformat": 4,
 "nbformat_minor": 5
}
