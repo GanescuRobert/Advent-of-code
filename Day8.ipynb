{
 "cells": [
  {
   "cell_type": "code",
   "execution_count": 1,
   "id": "d618ef36",
   "metadata": {
    "ExecuteTime": {
     "end_time": "2021-12-07T09:30:03.660579Z",
     "start_time": "2021-12-07T09:30:03.554415Z"
    }
   },
   "outputs": [],
   "source": [
    "import numpy as np"
   ]
  },
  {
   "cell_type": "code",
   "execution_count": 2,
   "id": "f8ea444a",
   "metadata": {
    "ExecuteTime": {
     "end_time": "2021-12-07T09:30:03.798521Z",
     "start_time": "2021-12-07T09:30:03.661587Z"
    }
   },
   "outputs": [],
   "source": [
    "def read_input(file_name):\n",
    "    with open(file_name) as file:\n",
    "        _input = file.read()\n",
    "    return _input"
   ]
  },
  {
   "cell_type": "code",
   "execution_count": 3,
   "id": "ae260af7",
   "metadata": {
    "ExecuteTime": {
     "end_time": "2021-12-07T09:30:03.829174Z",
     "start_time": "2021-12-07T09:30:03.800343Z"
    }
   },
   "outputs": [],
   "source": [
    "def preprocess_input(_input):\n",
    "    p_input = [_ for _ in _input.split(\"\\n\")]\n",
    "    p_input = [_.split('|') for _ in p_input]\n",
    "    return p_input\n"
   ]
  },
  {
   "cell_type": "code",
   "execution_count": 4,
   "id": "8cb98f80",
   "metadata": {
    "ExecuteTime": {
     "end_time": "2021-12-07T09:30:03.859818Z",
     "start_time": "2021-12-07T09:30:03.830525Z"
    }
   },
   "outputs": [],
   "source": [
    "def one(_input):\n",
    "    print(\" First star: \")\n",
    "    ans = 0\n",
    "    for pattern, fdo in _input:\n",
    "        ans += sum([1 if len(v) in [2, 3, 4, 7]\n",
    "                   else 0 for v in np.array([_ for _ in fdo.split(' ')])[1:]])\n",
    "    return ans\n"
   ]
  },
  {
   "cell_type": "code",
   "execution_count": 5,
   "id": "fb03eb53",
   "metadata": {
    "ExecuteTime": {
     "end_time": "2021-12-07T09:30:03.905806Z",
     "start_time": "2021-12-07T09:30:03.860815Z"
    }
   },
   "outputs": [],
   "source": [
    "# Up - U\n",
    "# Up Left - Ul\n",
    "# Up Right - Ur\n",
    "# Mid - M\n",
    "# Down Left - Dl\n",
    "# Down Right - Dr\n",
    "# Down - D\n",
    "\n",
    "# Ex:\n",
    "# UrDr is 1\n",
    "# UUrDr is 7\n",
    "\n",
    "\n",
    "def create_pattern(pattern):\n",
    "    no_8 = pattern[-1]\n",
    "    no_1 = pattern[0]\n",
    "    no_7 = pattern[1]\n",
    "    no_4 = pattern[2]\n",
    "\n",
    "    no_069 = [_ for _ in pattern if len(_)==6]\n",
    "    no_235 = [_ for _ in pattern if len(_)==5]\n",
    "    \n",
    "    UlM = ''.join(set(no_4).difference(no_1))\n",
    "    no_5 = [_ for _ in no_235 if len(''.join(set(UlM).difference(_)))==0][0]\n",
    "    no_235.remove(no_5)\n",
    "    no_2 = [_ for _ in no_235 if len(''.join(set(no_5).difference(_)))==2][0]\n",
    "    no_235.remove(no_2)\n",
    "    no_3 = no_235[0]\n",
    "\n",
    "    no_6 = [_ for _ in no_069 if len(''.join(set(no_1).difference(_)))==1][0]\n",
    "    no_069.remove(no_6)\n",
    "    no_0 = [_ for _ in no_069 if len(''.join(set(no_4).difference(_)))==1][0]\n",
    "    no_069.remove(no_0)\n",
    "    no_9 = no_069[0]\n",
    "    \n",
    "    return {\n",
    "        ''.join(sorted(no_0)):'0',\n",
    "        ''.join(sorted(no_1)):'1',\n",
    "        ''.join(sorted(no_2)):'2',\n",
    "        ''.join(sorted(no_3)):'3',\n",
    "        ''.join(sorted(no_4)):'4',\n",
    "        ''.join(sorted(no_5)):'5',\n",
    "        ''.join(sorted(no_6)):'6',\n",
    "        ''.join(sorted(no_7)):'7',\n",
    "        ''.join(sorted(no_8)):'8',\n",
    "        ''.join(sorted(no_9)):'9',\n",
    "    }\n",
    "    \n",
    "def two(_input):\n",
    "    print(\"Second star: \")\n",
    "    ans = [] \n",
    "  \n",
    "    for pattern, fdo in _input:\n",
    "        fdo = np.array([_ for _ in fdo.split(' ')])[1:]\n",
    "        pattern = create_pattern(np.array(sorted(pattern.split(' '),key= lambda x:len(x))[1:]))\n",
    "        \n",
    "        digits = ''\n",
    "        for _ in fdo:\n",
    "           digits += pattern[ ''.join(sorted(_))]\n",
    "        ans.append(int(digits))\n",
    "    return sum(ans)"
   ]
  },
  {
   "cell_type": "code",
   "execution_count": 6,
   "id": "7231b507",
   "metadata": {
    "ExecuteTime": {
     "end_time": "2021-12-07T09:30:03.951778Z",
     "start_time": "2021-12-07T09:30:03.907049Z"
    }
   },
   "outputs": [],
   "source": [
    "test_input = np.array(preprocess_input(read_input(\"Day8_test.input\")))\n",
    "\n",
    "_input = np.array(preprocess_input(read_input(\"Day8.input\")))"
   ]
  },
  {
   "cell_type": "code",
   "execution_count": 7,
   "id": "6fcf8897",
   "metadata": {
    "ExecuteTime": {
     "end_time": "2021-12-07T09:30:04.551890Z",
     "start_time": "2021-12-07T09:30:03.952828Z"
    }
   },
   "outputs": [
    {
     "name": "stdout",
     "output_type": "stream",
     "text": [
      " First star: \n",
      "0\n",
      " First star: \n",
      "355\n"
     ]
    }
   ],
   "source": [
    "print(one(test_input))\n",
    "print(one(_input))"
   ]
  },
  {
   "cell_type": "code",
   "execution_count": 8,
   "id": "0c354030",
   "metadata": {
    "ExecuteTime": {
     "end_time": "2021-12-07T09:30:05.843381Z",
     "start_time": "2021-12-07T09:30:04.553343Z"
    }
   },
   "outputs": [
    {
     "name": "stdout",
     "output_type": "stream",
     "text": [
      "Second star: \n",
      "5353\n",
      "Second star: \n",
      "983030\n"
     ]
    }
   ],
   "source": [
    "print(two(test_input))\n",
    "print(two(_input))"
   ]
  }
 ],
 "metadata": {
  "kernelspec": {
   "display_name": "Python 3 (ipykernel)",
   "language": "python",
   "name": "python3"
  },
  "language_info": {
   "codemirror_mode": {
    "name": "ipython",
    "version": 3
   },
   "file_extension": ".py",
   "mimetype": "text/x-python",
   "name": "python",
   "nbconvert_exporter": "python",
   "pygments_lexer": "ipython3",
   "version": "3.9.7"
  }
 },
 "nbformat": 4,
 "nbformat_minor": 5
}
