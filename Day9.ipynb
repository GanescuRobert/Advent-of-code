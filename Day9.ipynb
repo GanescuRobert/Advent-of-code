{
 "cells": [
  {
   "cell_type": "code",
   "execution_count": 1,
   "id": "bcd01da5",
   "metadata": {
    "ExecuteTime": {
     "end_time": "2021-12-09T14:30:43.487740Z",
     "start_time": "2021-12-09T14:30:42.978898Z"
    }
   },
   "outputs": [],
   "source": [
    "from aocd.models import Puzzle\n",
    "\n",
    "from scipy.ndimage import measurements\n",
    "import numpy as np"
   ]
  },
  {
   "cell_type": "code",
   "execution_count": 2,
   "id": "28f9f25e",
   "metadata": {
    "ExecuteTime": {
     "end_time": "2021-12-09T14:30:43.492174Z",
     "start_time": "2021-12-09T14:30:43.488707Z"
    }
   },
   "outputs": [],
   "source": [
    "puzzle = Puzzle(2021, 9)\n",
    "_input = puzzle.input_data"
   ]
  },
  {
   "cell_type": "code",
   "execution_count": 3,
   "id": "9c36b6d2",
   "metadata": {
    "ExecuteTime": {
     "end_time": "2021-12-09T14:30:43.553701Z",
     "start_time": "2021-12-09T14:30:43.494172Z"
    }
   },
   "outputs": [],
   "source": [
    "\n",
    "rows = len(_input)\n",
    "cols = len(_input[0])\n",
    "\n",
    "_input = np.array([int(_) for _ in ''.join(_input)]).reshape(rows, cols)"
   ]
  },
  {
   "cell_type": "code",
   "execution_count": 4,
   "id": "b79622a5",
   "metadata": {
    "ExecuteTime": {
     "end_time": "2021-12-09T14:30:43.586671Z",
     "start_time": "2021-12-09T14:30:43.554672Z"
    }
   },
   "outputs": [],
   "source": [
    "neighbors = []\n",
    "for i in range(rows):\n",
    "    for j in range(cols):\n",
    "        value = _input[i, j]\n",
    "        if 0 < i < rows-1 and 0 < j < cols-1:\n",
    "            new_neighbors = [\n",
    "                _input[i - 1][j],\n",
    "                _input[i + 1][j],\n",
    "                _input[i][j + 1],\n",
    "                _input[i][j - 1]\n",
    "            ]\n",
    "        else:\n",
    "            new_neighbors = []\n",
    "            if i != 0:\n",
    "                new_neighbors.append(_input[i - 1][j])\n",
    "            if i != rows - 1:\n",
    "                new_neighbors.append(_input[i + 1][j])\n",
    "            if j != cols - 1:\n",
    "                new_neighbors.append(_input[i][j + 1])\n",
    "            if j != 0:\n",
    "                new_neighbors.append(_input[i][j - 1])\n",
    "\n",
    "        neighbors.append([value, new_neighbors])"
   ]
  },
  {
   "cell_type": "code",
   "execution_count": 5,
   "id": "cb50f0fa",
   "metadata": {
    "ExecuteTime": {
     "end_time": "2021-12-09T14:30:43.601174Z",
     "start_time": "2021-12-09T14:30:43.587708Z"
    }
   },
   "outputs": [
    {
     "name": "stdout",
     "output_type": "stream",
     "text": [
      "526\n"
     ]
    }
   ],
   "source": [
    "lp = []\n",
    "for _ in neighbors:\n",
    "    v, n = _\n",
    "    if v < min(n):\n",
    "        lp.append(v)\n",
    "\n",
    "print(sum(lp)+len(lp))"
   ]
  },
  {
   "cell_type": "code",
   "execution_count": 7,
   "id": "a2c640eb",
   "metadata": {
    "ExecuteTime": {
     "end_time": "2021-12-09T14:30:51.536989Z",
     "start_time": "2021-12-09T14:30:51.529952Z"
    }
   },
   "outputs": [
    {
     "name": "stdout",
     "output_type": "stream",
     "text": [
      "1123524\n"
     ]
    }
   ],
   "source": [
    "basins = np.where(_input != 9, True, False)\n",
    "\n",
    "labels, num_of_labels = measurements.label(basins)\n",
    "areas = measurements.sum(basins, labels, index=np.arange(np.max(labels) + 1))\n",
    "\n",
    "l1, l2, l3 = sorted(areas)[-3:]\n",
    "print(int(l1*l2*l3))"
   ]
  },
  {
   "cell_type": "code",
   "execution_count": null,
   "id": "a11d50b8",
   "metadata": {},
   "outputs": [],
   "source": []
  }
 ],
 "metadata": {
  "kernelspec": {
   "display_name": "Python 3 (ipykernel)",
   "language": "python",
   "name": "python3"
  },
  "language_info": {
   "codemirror_mode": {
    "name": "ipython",
    "version": 3
   },
   "file_extension": ".py",
   "mimetype": "text/x-python",
   "name": "python",
   "nbconvert_exporter": "python",
   "pygments_lexer": "ipython3",
   "version": "3.9.7"
  }
 },
 "nbformat": 4,
 "nbformat_minor": 5
}
